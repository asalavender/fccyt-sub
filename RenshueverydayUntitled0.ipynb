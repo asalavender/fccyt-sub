{
  "nbformat": 4,
  "nbformat_minor": 0,
  "metadata": {
    "colab": {
      "provenance": [],
      "authorship_tag": "ABX9TyO08JLrNJmFpgtrL8H4PYPp",
      "include_colab_link": true
    },
    "kernelspec": {
      "name": "python3",
      "display_name": "Python 3"
    },
    "language_info": {
      "name": "python"
    }
  },
  "cells": [
    {
      "cell_type": "markdown",
      "metadata": {
        "id": "view-in-github",
        "colab_type": "text"
      },
      "source": [
        "<a href=\"https://colab.research.google.com/github/asalavender/fccyt-sub/blob/main/RenshueverydayUntitled0.ipynb\" target=\"_parent\"><img src=\"https://colab.research.google.com/assets/colab-badge.svg\" alt=\"Open In Colab\"/></a>"
      ]
    },
    {
      "cell_type": "code",
      "execution_count": 25,
      "metadata": {
        "colab": {
          "base_uri": "https://localhost:8080/"
        },
        "id": "oEfh3Mm7carf",
        "outputId": "00389d6b-266f-4633-db82-3b4d0426f6b9"
      },
      "outputs": [
        {
          "output_type": "stream",
          "name": "stdout",
          "text": [
            "Are you from Hokkaido, Tokyo, Osaka, Okinawa?: Okinawa\n",
            "Oh you are southerner than me. I am from Hokkaido\n",
            "Am I cat, dog, fox?: fox\n",
            "No. I am cat\n",
            "Let's flip a coin! Guess which, heads or tails?: heads\n",
            "No it is tails\n"
          ]
        }
      ],
      "source": [
        "import random\n",
        "\n",
        "def play():\n",
        "    user = input(\"Are you from Hokkaido, Tokyo, Osaka, Okinawa?: \")\n",
        "    computer = random.choice([\"Hokkaido\", \"Tokyo\", \"Osaka\", \"Okinawa\"])\n",
        "    if user == computer:\n",
        "      return f\"Oh we are both from {computer}\"\n",
        "    if is_north(user, computer):\n",
        "      return f\"Oh you are Northerner than me. I am from {computer}\"\n",
        "    return f\"Oh you are southerner than me. I am from {computer}\"\n",
        "\n",
        "def is_north(user, computer):\n",
        "    if (user == \"Hokkaido\" and computer != \"Hokkaido\") or (user == \"Osaka\" and computer == \"Okinawa\") or (user == \"Tokyo\" and computer == \"Osaka\") or (user == \"Tokyo\" and computer == \"Okinawa\"):\n",
        "      return True\n",
        "\n",
        "print(play())\n",
        "\n",
        "\n",
        "\n",
        "import random\n",
        "\n",
        "def play():\n",
        "    user = input(\"Am I cat, dog, fox?: \")\n",
        "    computer = random.choice([\"cat\", \"dog\", \"fox\"])\n",
        "\n",
        "    if user == computer:\n",
        "      return \"Yes\"\n",
        "\n",
        "    if user !=computer:\n",
        "      return f\"No. I am {computer}\"\n",
        "\n",
        "print(play())\n",
        "\n",
        "\n",
        "\n",
        "\n",
        "import random\n",
        "\n",
        "def play():\n",
        "    user = input(\"Let's flip a coin! Guess which, heads or tails?: \")\n",
        "    computer = random.choice([\"heads\", \"tails\"])\n",
        "\n",
        "    if user == computer:\n",
        "      return f\"Your guess was right! It's {computer}!\"\n",
        "\n",
        "    if user != computer:\n",
        "      return f\"No it is {computer}\"\n",
        "\n",
        "print(play())"
      ]
    }
  ]
}